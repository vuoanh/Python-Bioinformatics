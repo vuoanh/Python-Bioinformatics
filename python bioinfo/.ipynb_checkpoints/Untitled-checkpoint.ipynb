{
 "cells": [
  {
   "cell_type": "markdown",
   "metadata": {},
   "source": [
    "### Basic\n",
    "#### Floats"
   ]
  },
  {
   "cell_type": "code",
   "execution_count": 1,
   "metadata": {
    "collapsed": false
   },
   "outputs": [
    {
     "data": {
      "text/plain": [
       "20000.0"
      ]
     },
     "execution_count": 1,
     "metadata": {},
     "output_type": "execute_result"
    }
   ],
   "source": [
    "2e4"
   ]
  },
  {
   "cell_type": "code",
   "execution_count": 2,
   "metadata": {
    "collapsed": false
   },
   "outputs": [
    {
     "data": {
      "text/plain": [
       "0.02"
      ]
     },
     "execution_count": 2,
     "metadata": {},
     "output_type": "execute_result"
    }
   ],
   "source": [
    "2e-2"
   ]
  },
  {
   "cell_type": "code",
   "execution_count": 3,
   "metadata": {
    "collapsed": false
   },
   "outputs": [
    {
     "data": {
      "text/plain": [
       "2"
      ]
     },
     "execution_count": 3,
     "metadata": {},
     "output_type": "execute_result"
    }
   ],
   "source": [
    "# / produces a float\n",
    "11/4\n",
    "\n",
    "# // produces an interger (floor division)\n",
    "11//4"
   ]
  },
  {
   "cell_type": "code",
   "execution_count": 13,
   "metadata": {
    "collapsed": true
   },
   "outputs": [],
   "source": [
    "text = 'CTGTCACTCTACGTGGGCCAGTTAGCGATTACCGAAGACAAAGTATATAAGCTATCCTAACGGAGGTCCTGACAAAGCTCTCTTGCTATCCAGAACCCATAGCAACCGCAGGCGGGTCTTACAACACTACTCAGGGGGTAGCGGCAAGATCGGATAACTTGTTTACAGACCTGAACGAGTAAATTGCCGAGCGTAACGGGGCCGGCGGCGAAACGGTCTCAATAGTCTCACTGCCACTAGTGGCATGAGACAGCGTTGGTCCTTTGCCCTGTTGGCTATGTCATGCTCCATGCTCCTCGGGCAATATATTCGACCCCTCAGTCTCCAACCAAACCTCTCAGAGCTGAGGCCTATGTTTTCTGAAACTGTACAGAAGACAAATTGGTCAAATGTGAAGGAGGTATCGCATCGTATAACCACAGGTTCTATCAAGTAACTAAGGAAACGCAGTGTACGTACCATATGCACCACGATTGAGATGCATAATGCTCAGTTTAACCGGATTAGCTACCCAGTAATAATTGTCGATCCCGATATCTCCAACCGGTCTCTATTCCTTAGCAAGATAGTATACCTTCGAGCAGTTAAGTCGGTTTCCAATTACCTAGATAATCCCACTTGAATGGCAATCAGTGCTACACGGTCGTTGCCAAGTGCAGCAGAGTAACCGTCATAACATGACCCTTTTTCCGTCTCCATATCTAGCAAGTGTCTAGATGTCTTGCGGCTGTTAATTACTTCCAGCTGTGTATGAGCTAATTAATTGCACCCTTGAGAGGCTACTCTGGGTAGCGTTTCTGACATGTCACCGTTATGAGCACGACCGCCGGTCACGTAGCTATCGAGTTATAGTCTCAAG'"
   ]
  },
  {
   "cell_type": "code",
   "execution_count": 9,
   "metadata": {
    "collapsed": true
   },
   "outputs": [],
   "source": [
    "text2 ='AGCTTTTCATTCTGACTGCAACGGGCAATATGTCTCTGTGTGGATTAAAAAAAGAGTGTCTGATAGCAGC'"
   ]
  },
  {
   "cell_type": "code",
   "execution_count": 17,
   "metadata": {
    "collapsed": true
   },
   "outputs": [],
   "source": [
    "def count(str):\n",
    "    A = 0\n",
    "    C = 0 \n",
    "    T = 0\n",
    "    G = 0\n",
    "    for i in str:\n",
    "        if i == 'A':\n",
    "            A += 1\n",
    "        if i == 'C':\n",
    "            C += 1\n",
    "        if i == 'G':\n",
    "            G += 1\n",
    "        if i == 'T':\n",
    "            T += 1\n",
    "    return A, C, G, T"
   ]
  },
  {
   "cell_type": "code",
   "execution_count": 19,
   "metadata": {
    "collapsed": false
   },
   "outputs": [
    {
     "data": {
      "text/plain": [
       "(228, 216, 192, 223)"
      ]
     },
     "execution_count": 19,
     "metadata": {},
     "output_type": "execute_result"
    }
   ],
   "source": [
    "count(text)"
   ]
  },
  {
   "cell_type": "markdown",
   "metadata": {},
   "source": [
    "An RNA string is a string formed from the alphabet containing 'A', 'C', 'G', and 'U'.\n",
    "\n",
    "Given a DNA string t corresponding to a coding strand, its transcribed RNA string u is formed by replacing all occurrences of 'T' in t with 'U' in u."
   ]
  },
  {
   "cell_type": "code",
   "execution_count": 45,
   "metadata": {
    "collapsed": false
   },
   "outputs": [],
   "source": [
    "def convertToRNA(text):\n",
    "    outText = ''\n",
    "    for i in range(len(text)):\n",
    "        if text[i] == 'T':\n",
    "            outText +='U'\n",
    "        else:\n",
    "            outText += text[i]\n",
    "    return outText"
   ]
  },
  {
   "cell_type": "code",
   "execution_count": 21,
   "metadata": {
    "collapsed": true
   },
   "outputs": [],
   "source": [
    "DNA ='GATGGAACTTGACTACGTAAATT'"
   ]
  },
  {
   "cell_type": "code",
   "execution_count": 46,
   "metadata": {
    "collapsed": false
   },
   "outputs": [
    {
     "data": {
      "text/plain": [
       "'GAUGGAACUUGACUACGUAAAUU'"
      ]
     },
     "execution_count": 46,
     "metadata": {},
     "output_type": "execute_result"
    }
   ],
   "source": [
    "convertToRNA(DNA)"
   ]
  },
  {
   "cell_type": "code",
   "execution_count": 47,
   "metadata": {
    "collapsed": true
   },
   "outputs": [],
   "source": [
    "DNA1 = 'ATTTTACTGGGAGAGGGAAAAACATCTGCATGAGCATATTAGAAGCTTTTGTCTAATCGACTTACTACACCTAACGACGAAGCTACTCGAGCGTAATGTGCTAGTGATTCGCCAAGGTGAGGGCGTGAGCCCGTAGGGCCAGGGTTGTCTTCACAAACAACCCCCGACACGCTGATTGTCTCGAGAGCGGCTGTGAGCAAAAGTATCAGTGTAACGCCTCTATCTTAACCGACCCCCCCTGCCGTGAAGCCCTTTGAACAAGAACGCCCGATCGGGAACGATAGCGCCAAGTTTACCGACTGTCGACCAACCCGTATAGGCGAGCATTAAAGGACCTCGGGGCTCCTACCGTCCCCCGGGTAAACATGCAGGTAAAGTCGCAGACAGCTTGTCGGTCGGATGAAGATCCATGCGCATCCAGTATAAACAACGATATACCCGACTACAGTGACATTGATTTCGATCCGTTTATTAGTGCGCGGCTCTGATCTTATGATTAATGCTTGACAAACCCGGGTCTGCATCTTGATGTACTTTGCCGCCATAACTCCGCGTGTAGCTGAATTCACGTATAGTCAGCATATTCCTTGGGAGTGCAGTTGGTCTAGGTCGTCTGGGTTAGACAGATGGTTCGCGGCCTGAGGCCAATTGCCTAGCGGACCATGCCAAATTCATCGCTCATCCAACAGATCTTTTGACGCAAGGGTCCTAGGGCCCTGCAAAGGCTATCAATTCACGCCCATGAACGCGCCTCACGCAGAACTAACCTCGACCTTACCAAGCAATACACGATCTCGTGGATAGGCCCCATGATGTCACTTTGAAGACGCATAACAACAGTTAGAGGGCTCTGCCAATCACGATTTGCCGGTGCTCTTATGCCCTGGCGATCGGTATCTTGTTGATGCCCCGACTTCCGCGATTAACGGTTTTACAGACAGTGGAACCTGTGCAGTCCTACCGACCGGG'"
   ]
  },
  {
   "cell_type": "code",
   "execution_count": 49,
   "metadata": {
    "collapsed": false
   },
   "outputs": [
    {
     "data": {
      "text/plain": [
       "'AUUUUACUGGGAGAGGGAAAAACAUCUGCAUGAGCAUAUUAGAAGCUUUUGUCUAAUCGACUUACUACACCUAACGACGAAGCUACUCGAGCGUAAUGUGCUAGUGAUUCGCCAAGGUGAGGGCGUGAGCCCGUAGGGCCAGGGUUGUCUUCACAAACAACCCCCGACACGCUGAUUGUCUCGAGAGCGGCUGUGAGCAAAAGUAUCAGUGUAACGCCUCUAUCUUAACCGACCCCCCCUGCCGUGAAGCCCUUUGAACAAGAACGCCCGAUCGGGAACGAUAGCGCCAAGUUUACCGACUGUCGACCAACCCGUAUAGGCGAGCAUUAAAGGACCUCGGGGCUCCUACCGUCCCCCGGGUAAACAUGCAGGUAAAGUCGCAGACAGCUUGUCGGUCGGAUGAAGAUCCAUGCGCAUCCAGUAUAAACAACGAUAUACCCGACUACAGUGACAUUGAUUUCGAUCCGUUUAUUAGUGCGCGGCUCUGAUCUUAUGAUUAAUGCUUGACAAACCCGGGUCUGCAUCUUGAUGUACUUUGCCGCCAUAACUCCGCGUGUAGCUGAAUUCACGUAUAGUCAGCAUAUUCCUUGGGAGUGCAGUUGGUCUAGGUCGUCUGGGUUAGACAGAUGGUUCGCGGCCUGAGGCCAAUUGCCUAGCGGACCAUGCCAAAUUCAUCGCUCAUCCAACAGAUCUUUUGACGCAAGGGUCCUAGGGCCCUGCAAAGGCUAUCAAUUCACGCCCAUGAACGCGCCUCACGCAGAACUAACCUCGACCUUACCAAGCAAUACACGAUCUCGUGGAUAGGCCCCAUGAUGUCACUUUGAAGACGCAUAACAACAGUUAGAGGGCUCUGCCAAUCACGAUUUGCCGGUGCUCUUAUGCCCUGGCGAUCGGUAUCUUGUUGAUGCCCCGACUUCCGCGAUUAACGGUUUUACAGACAGUGGAACCUGUGCAGUCCUACCGACCGGG'"
      ]
     },
     "execution_count": 49,
     "metadata": {},
     "output_type": "execute_result"
    }
   ],
   "source": [
    "convertToRNA(DNA1)"
   ]
  },
  {
   "cell_type": "markdown",
   "metadata": {},
   "source": [
    "Given: At most 10 DNA strings in FASTA format (of length at most 1 kbp each).\n",
    "\n",
    "Return: The ID of the string having the highest GC-content, followed by the GC-content of that string. Rosalind allows for a default error of 0.001 in all decimal answers unless otherwise stated; please see the note on absolute error below."
   ]
  },
  {
   "cell_type": "code",
   "execution_count": 59,
   "metadata": {
    "collapsed": true
   },
   "outputs": [],
   "source": [
    "def GCcontent(text):\n",
    "    counter = 0\n",
    "    for i in text:\n",
    "        if i == 'G' or i == 'C':\n",
    "            counter += 1\n",
    "    return round (counter * 100 / len(text) , 3)"
   ]
  },
  {
   "cell_type": "code",
   "execution_count": 64,
   "metadata": {
    "collapsed": false
   },
   "outputs": [
    {
     "data": {
      "text/plain": [
       "53.571"
      ]
     },
     "execution_count": 64,
     "metadata": {},
     "output_type": "execute_result"
    }
   ],
   "source": [
    "GCcontent('CCATCGGTAGCGCATCCTTAGTCCAATTAAGTCCCTATCCAGGCGCTCCGCCGAAGGTCTATATCCATTTGTCAGCAGACACGC')"
   ]
  },
  {
   "cell_type": "code",
   "execution_count": null,
   "metadata": {
    "collapsed": true
   },
   "outputs": [],
   "source": [
    "def getSmallestCGcontent(filename):\n",
    "    #dict = {}\n",
    "    names =[]\n",
    "    GcContents = []\n",
    "    with open(filename, 'r') as f:\n",
    "        while True:\n",
    "            name = f.readline().rstrip()\n",
    "            content = GCcontent(f.readline().rstrip())\n",
    "            if len(name) == 0: #if the line is empty\n",
    "                break \n",
    "            names.append(names)\n",
    "            GcContents.append(content)\n",
    "    return names, GcContents    "
   ]
  },
  {
   "cell_type": "code",
   "execution_count": null,
   "metadata": {
    "collapsed": false
   },
   "outputs": [],
   "source": [
    "names, contents = getSmallestCGcontent('rosalind.txt')"
   ]
  },
  {
   "cell_type": "code",
   "execution_count": null,
   "metadata": {
    "collapsed": true
   },
   "outputs": [],
   "source": [
    "print(names)"
   ]
  },
  {
   "cell_type": "code",
   "execution_count": null,
   "metadata": {
    "collapsed": true
   },
   "outputs": [],
   "source": [
    "# write a function to read the fastq\n",
    "def readFastq(filename):\n",
    "    sequences = [] #initiate 2 empty list\n",
    "    qualities = []\n",
    "    with open(filename) as fh:\n",
    "        while True: # while reading the file\n",
    "            #each time going through the loop,read 4 lines \n",
    "            fh.readline() # read but not storing anything\n",
    "            seq = fh.readline().rstrip() # read and store sequence\n",
    "            fh.readline() # read but ignore\n",
    "            qual = fh.readline().rstrip() # read and store the quality \n",
    "            if len(seq) == 0: #if the line is empty\n",
    "                break # break out of the while loop\n",
    "            # otherwise, append the newly read sequence into the array\n",
    "            sequences.append(seq)  \n",
    "            qualities.append(qual)\n",
    "    return sequences, qualities # can return multiple values\n",
    "seqs, quals = readFastq('rosalind.txt') "
   ]
  },
  {
   "cell_type": "code",
   "execution_count": null,
   "metadata": {
    "collapsed": true
   },
   "outputs": [],
   "source": [
    "print(seqs)"
   ]
  },
  {
   "cell_type": "code",
   "execution_count": null,
   "metadata": {
    "collapsed": true
   },
   "outputs": [],
   "source": []
  },
  {
   "cell_type": "code",
   "execution_count": null,
   "metadata": {
    "collapsed": true
   },
   "outputs": [],
   "source": []
  },
  {
   "cell_type": "code",
   "execution_count": null,
   "metadata": {
    "collapsed": true
   },
   "outputs": [],
   "source": [
    "readFastq('rosalind.txt')"
   ]
  },
  {
   "cell_type": "code",
   "execution_count": null,
   "metadata": {
    "collapsed": true
   },
   "outputs": [],
   "source": []
  },
  {
   "cell_type": "code",
   "execution_count": null,
   "metadata": {
    "collapsed": true
   },
   "outputs": [],
   "source": []
  }
 ],
 "metadata": {
  "kernelspec": {
   "display_name": "Python 3",
   "language": "python",
   "name": "python3"
  },
  "language_info": {
   "codemirror_mode": {
    "name": "ipython",
    "version": 3
   },
   "file_extension": ".py",
   "mimetype": "text/x-python",
   "name": "python",
   "nbconvert_exporter": "python",
   "pygments_lexer": "ipython3",
   "version": "3.4.3"
  }
 },
 "nbformat": 4,
 "nbformat_minor": 0
}
