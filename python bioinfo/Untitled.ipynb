{
 "cells": [
  {
   "cell_type": "markdown",
   "metadata": {},
   "source": [
    "### Basic\n",
    "#### Floats"
   ]
  },
  {
   "cell_type": "code",
   "execution_count": 1,
   "metadata": {
    "collapsed": false
   },
   "outputs": [
    {
     "data": {
      "text/plain": [
       "20000.0"
      ]
     },
     "execution_count": 1,
     "metadata": {},
     "output_type": "execute_result"
    }
   ],
   "source": [
    "2e4"
   ]
  },
  {
   "cell_type": "code",
   "execution_count": 2,
   "metadata": {
    "collapsed": false
   },
   "outputs": [
    {
     "data": {
      "text/plain": [
       "0.02"
      ]
     },
     "execution_count": 2,
     "metadata": {},
     "output_type": "execute_result"
    }
   ],
   "source": [
    "2e-2"
   ]
  },
  {
   "cell_type": "code",
   "execution_count": 3,
   "metadata": {
    "collapsed": false
   },
   "outputs": [
    {
     "data": {
      "text/plain": [
       "2"
      ]
     },
     "execution_count": 3,
     "metadata": {},
     "output_type": "execute_result"
    }
   ],
   "source": [
    "# / produces a float\n",
    "11/4\n",
    "\n",
    "# // produces an interger (floor division)\n",
    "11//4"
   ]
  },
  {
   "cell_type": "code",
   "execution_count": 13,
   "metadata": {
    "collapsed": true
   },
   "outputs": [],
   "source": [
    "text = 'CTGTCACTCTACGTGGGCCAGTTAGCGATTACCGAAGACAAAGTATATAAGCTATCCTAACGGAGGTCCTGACAAAGCTCTCTTGCTATCCAGAACCCATAGCAACCGCAGGCGGGTCTTACAACACTACTCAGGGGGTAGCGGCAAGATCGGATAACTTGTTTACAGACCTGAACGAGTAAATTGCCGAGCGTAACGGGGCCGGCGGCGAAACGGTCTCAATAGTCTCACTGCCACTAGTGGCATGAGACAGCGTTGGTCCTTTGCCCTGTTGGCTATGTCATGCTCCATGCTCCTCGGGCAATATATTCGACCCCTCAGTCTCCAACCAAACCTCTCAGAGCTGAGGCCTATGTTTTCTGAAACTGTACAGAAGACAAATTGGTCAAATGTGAAGGAGGTATCGCATCGTATAACCACAGGTTCTATCAAGTAACTAAGGAAACGCAGTGTACGTACCATATGCACCACGATTGAGATGCATAATGCTCAGTTTAACCGGATTAGCTACCCAGTAATAATTGTCGATCCCGATATCTCCAACCGGTCTCTATTCCTTAGCAAGATAGTATACCTTCGAGCAGTTAAGTCGGTTTCCAATTACCTAGATAATCCCACTTGAATGGCAATCAGTGCTACACGGTCGTTGCCAAGTGCAGCAGAGTAACCGTCATAACATGACCCTTTTTCCGTCTCCATATCTAGCAAGTGTCTAGATGTCTTGCGGCTGTTAATTACTTCCAGCTGTGTATGAGCTAATTAATTGCACCCTTGAGAGGCTACTCTGGGTAGCGTTTCTGACATGTCACCGTTATGAGCACGACCGCCGGTCACGTAGCTATCGAGTTATAGTCTCAAG'"
   ]
  },
  {
   "cell_type": "code",
   "execution_count": 9,
   "metadata": {
    "collapsed": true
   },
   "outputs": [],
   "source": [
    "text2 ='AGCTTTTCATTCTGACTGCAACGGGCAATATGTCTCTGTGTGGATTAAAAAAAGAGTGTCTGATAGCAGC'"
   ]
  },
  {
   "cell_type": "code",
   "execution_count": 17,
   "metadata": {
    "collapsed": true
   },
   "outputs": [],
   "source": [
    "def count(str):\n",
    "    A = 0\n",
    "    C = 0 \n",
    "    T = 0\n",
    "    G = 0\n",
    "    for i in str:\n",
    "        if i == 'A':\n",
    "            A += 1\n",
    "        if i == 'C':\n",
    "            C += 1\n",
    "        if i == 'G':\n",
    "            G += 1\n",
    "        if i == 'T':\n",
    "            T += 1\n",
    "    return A, C, G, T"
   ]
  },
  {
   "cell_type": "code",
   "execution_count": 19,
   "metadata": {
    "collapsed": false
   },
   "outputs": [
    {
     "data": {
      "text/plain": [
       "(228, 216, 192, 223)"
      ]
     },
     "execution_count": 19,
     "metadata": {},
     "output_type": "execute_result"
    }
   ],
   "source": [
    "count(text)"
   ]
  },
  {
   "cell_type": "markdown",
   "metadata": {},
   "source": [
    "An RNA string is a string formed from the alphabet containing 'A', 'C', 'G', and 'U'.\n",
    "\n",
    "Given a DNA string t corresponding to a coding strand, its transcribed RNA string u is formed by replacing all occurrences of 'T' in t with 'U' in u."
   ]
  },
  {
   "cell_type": "code",
   "execution_count": 45,
   "metadata": {
    "collapsed": false
   },
   "outputs": [],
   "source": [
    "def convertToRNA(text):\n",
    "    outText = ''\n",
    "    for i in range(len(text)):\n",
    "        if text[i] == 'T':\n",
    "            outText +='U'\n",
    "        else:\n",
    "            outText += text[i]\n",
    "    return outText"
   ]
  },
  {
   "cell_type": "code",
   "execution_count": 21,
   "metadata": {
    "collapsed": true
   },
   "outputs": [],
   "source": [
    "DNA ='GATGGAACTTGACTACGTAAATT'"
   ]
  },
  {
   "cell_type": "code",
   "execution_count": 46,
   "metadata": {
    "collapsed": false
   },
   "outputs": [
    {
     "data": {
      "text/plain": [
       "'GAUGGAACUUGACUACGUAAAUU'"
      ]
     },
     "execution_count": 46,
     "metadata": {},
     "output_type": "execute_result"
    }
   ],
   "source": [
    "convertToRNA(DNA)"
   ]
  },
  {
   "cell_type": "code",
   "execution_count": 47,
   "metadata": {
    "collapsed": true
   },
   "outputs": [],
   "source": [
    "DNA1 = 'ATTTTACTGGGAGAGGGAAAAACATCTGCATGAGCATATTAGAAGCTTTTGTCTAATCGACTTACTACACCTAACGACGAAGCTACTCGAGCGTAATGTGCTAGTGATTCGCCAAGGTGAGGGCGTGAGCCCGTAGGGCCAGGGTTGTCTTCACAAACAACCCCCGACACGCTGATTGTCTCGAGAGCGGCTGTGAGCAAAAGTATCAGTGTAACGCCTCTATCTTAACCGACCCCCCCTGCCGTGAAGCCCTTTGAACAAGAACGCCCGATCGGGAACGATAGCGCCAAGTTTACCGACTGTCGACCAACCCGTATAGGCGAGCATTAAAGGACCTCGGGGCTCCTACCGTCCCCCGGGTAAACATGCAGGTAAAGTCGCAGACAGCTTGTCGGTCGGATGAAGATCCATGCGCATCCAGTATAAACAACGATATACCCGACTACAGTGACATTGATTTCGATCCGTTTATTAGTGCGCGGCTCTGATCTTATGATTAATGCTTGACAAACCCGGGTCTGCATCTTGATGTACTTTGCCGCCATAACTCCGCGTGTAGCTGAATTCACGTATAGTCAGCATATTCCTTGGGAGTGCAGTTGGTCTAGGTCGTCTGGGTTAGACAGATGGTTCGCGGCCTGAGGCCAATTGCCTAGCGGACCATGCCAAATTCATCGCTCATCCAACAGATCTTTTGACGCAAGGGTCCTAGGGCCCTGCAAAGGCTATCAATTCACGCCCATGAACGCGCCTCACGCAGAACTAACCTCGACCTTACCAAGCAATACACGATCTCGTGGATAGGCCCCATGATGTCACTTTGAAGACGCATAACAACAGTTAGAGGGCTCTGCCAATCACGATTTGCCGGTGCTCTTATGCCCTGGCGATCGGTATCTTGTTGATGCCCCGACTTCCGCGATTAACGGTTTTACAGACAGTGGAACCTGTGCAGTCCTACCGACCGGG'"
   ]
  },
  {
   "cell_type": "code",
   "execution_count": 49,
   "metadata": {
    "collapsed": false
   },
   "outputs": [
    {
     "data": {
      "text/plain": [
       "'AUUUUACUGGGAGAGGGAAAAACAUCUGCAUGAGCAUAUUAGAAGCUUUUGUCUAAUCGACUUACUACACCUAACGACGAAGCUACUCGAGCGUAAUGUGCUAGUGAUUCGCCAAGGUGAGGGCGUGAGCCCGUAGGGCCAGGGUUGUCUUCACAAACAACCCCCGACACGCUGAUUGUCUCGAGAGCGGCUGUGAGCAAAAGUAUCAGUGUAACGCCUCUAUCUUAACCGACCCCCCCUGCCGUGAAGCCCUUUGAACAAGAACGCCCGAUCGGGAACGAUAGCGCCAAGUUUACCGACUGUCGACCAACCCGUAUAGGCGAGCAUUAAAGGACCUCGGGGCUCCUACCGUCCCCCGGGUAAACAUGCAGGUAAAGUCGCAGACAGCUUGUCGGUCGGAUGAAGAUCCAUGCGCAUCCAGUAUAAACAACGAUAUACCCGACUACAGUGACAUUGAUUUCGAUCCGUUUAUUAGUGCGCGGCUCUGAUCUUAUGAUUAAUGCUUGACAAACCCGGGUCUGCAUCUUGAUGUACUUUGCCGCCAUAACUCCGCGUGUAGCUGAAUUCACGUAUAGUCAGCAUAUUCCUUGGGAGUGCAGUUGGUCUAGGUCGUCUGGGUUAGACAGAUGGUUCGCGGCCUGAGGCCAAUUGCCUAGCGGACCAUGCCAAAUUCAUCGCUCAUCCAACAGAUCUUUUGACGCAAGGGUCCUAGGGCCCUGCAAAGGCUAUCAAUUCACGCCCAUGAACGCGCCUCACGCAGAACUAACCUCGACCUUACCAAGCAAUACACGAUCUCGUGGAUAGGCCCCAUGAUGUCACUUUGAAGACGCAUAACAACAGUUAGAGGGCUCUGCCAAUCACGAUUUGCCGGUGCUCUUAUGCCCUGGCGAUCGGUAUCUUGUUGAUGCCCCGACUUCCGCGAUUAACGGUUUUACAGACAGUGGAACCUGUGCAGUCCUACCGACCGGG'"
      ]
     },
     "execution_count": 49,
     "metadata": {},
     "output_type": "execute_result"
    }
   ],
   "source": [
    "convertToRNA(DNA1)"
   ]
  },
  {
   "cell_type": "markdown",
   "metadata": {},
   "source": [
    "Given: At most 10 DNA strings in FASTA format (of length at most 1 kbp each).\n",
    "\n",
    "Return: The ID of the string having the highest GC-content, followed by the GC-content of that string. Rosalind allows for a default error of 0.001 in all decimal answers unless otherwise stated; please see the note on absolute error below."
   ]
  },
  {
   "cell_type": "code",
   "execution_count": 57,
   "metadata": {
    "collapsed": true
   },
   "outputs": [],
   "source": [
    "def GCcontent(text):\n",
    "    counter = 0\n",
    "    for i in text:\n",
    "        if i == 'G' or i == 'C':\n",
    "            counter += 1\n",
    "    return round (counter * 100 / len(text) , 4)"
   ]
  },
  {
   "cell_type": "code",
   "execution_count": 64,
   "metadata": {
    "collapsed": false
   },
   "outputs": [
    {
     "data": {
      "text/plain": [
       "53.571"
      ]
     },
     "execution_count": 64,
     "metadata": {},
     "output_type": "execute_result"
    }
   ],
   "source": [
    "GCcontent('CCATCGGTAGCGCATCCTTAGTCCAATTAAGTCCCTATCCAGGCGCTCCGCCGAAGGTCTATATCCATTTGTCAGCAGACACGC')"
   ]
  },
  {
   "cell_type": "code",
   "execution_count": 93,
   "metadata": {
    "collapsed": false
   },
   "outputs": [],
   "source": [
    "def getSmallestCGcontent(filename):\n",
    "    dict = {}\n",
    "    seqs =[''] * 10\n",
    "    names = [''] * 10 \n",
    "    i = -1\n",
    "    with open(filename, 'r') as f:\n",
    "        for line in f:\n",
    "            if not line[0] == '>':\n",
    "                seqs[i] += line.rstrip()\n",
    "            else :\n",
    "                i += 1\n",
    "                names[i] += line.rstrip()[1:]\n",
    "    for n in range(3):\n",
    "        dict[names[n]] = GCcontent(seqs[n])\n",
    "    maxGC = max(list(dict.values()))\n",
    "    for key, value in dict.items():\n",
    "        if value == maxGC:\n",
    "            print (key, value) "
   ]
  },
  {
   "cell_type": "code",
   "execution_count": 95,
   "metadata": {
    "collapsed": false
   },
   "outputs": [
    {
     "name": "stdout",
     "output_type": "stream",
     "text": [
      "Rosalind_0142 52.4917\n"
     ]
    }
   ],
   "source": [
    "dict = getSmallestCGcontent('rosalind.txt')"
   ]
  },
  {
   "cell_type": "markdown",
   "metadata": {},
   "source": [
    "Given: A DNA string s of length at most 1000 bp.\n",
    "\n",
    "Return: The reverse complement sc of s."
   ]
  },
  {
   "cell_type": "code",
   "execution_count": 44,
   "metadata": {
    "collapsed": false
   },
   "outputs": [],
   "source": [
    "def reverseComp(text):\n",
    "    dict = {'A':'T', 'T':'A', 'G':'C', 'C':'G'}\n",
    "    revCompSeq = ''\n",
    "    i = len(text) - 1\n",
    "    while i >= 0:\n",
    "        revCompSeq += dict[text[i]]\n",
    "        i -= 1\n",
    "    return revCompSeq"
   ]
  },
  {
   "cell_type": "code",
   "execution_count": 45,
   "metadata": {
    "collapsed": false
   },
   "outputs": [
    {
     "data": {
      "text/plain": [
       "'ACCGGGTTTT'"
      ]
     },
     "execution_count": 45,
     "metadata": {},
     "output_type": "execute_result"
    }
   ],
   "source": [
    "reverseComp('AAAACCCGGT')"
   ]
  },
  {
   "cell_type": "code",
   "execution_count": 46,
   "metadata": {
    "collapsed": true
   },
   "outputs": [],
   "source": [
    "text = 'GAAGCAACCACGAAAGGCGATCTCTACTCCCGCGTCCAGACGCTGTTTACTCAGGTGTGCGATCCAACAATCGCTGCTATCGGTGTGACGCTAGCTATCGATACCCTGTCCCTTGGGAACCCGTCAGAGTTGTGCACTTTTCTCTAGGGATTCACAAATGTTTTTGCGCCGTAAAGCTGGCCTTTTTTCTTTCAAAGCGGAACCAATGACACACGTGTTAGTACCACAGTCTACTCCGACCCATGCATTAACGAAGTTGACCTGACCGGTTAATATTAAATGCGGATTGTCTCACACTTCGCCGAAGGGTGGCATGTTCGAAGCGTCTGGATGTTAGGCTTGCACGCGGGGGCCTCGTGCACTGGGCTAGGAAGCAACGAGTAGAGCAGGGAGGGCGAGCAGGTAATGATCGCTAAACGGTGAACTGCTCACCACTTATTGCGGCCGTGTTCGTCTCTGTGAATCCCCACTCGGTAACACGGCCACGCCCCGATTCAAGAGTAAATCATATCAAGACATGCGATAGAGGTGTGCGTATTTCGGATGCTCCTCCTTGGCCGGCTGGTGGACTCGATTCTATTAAATGGCAGTTATTTCGTCTGTAAATAGATGCAATGTTTACCAGCAAGCGAAGGTTTCCTACTTTAAATGAGCACAGGCTAGGACAGGGCACCCACTAACTATAACTCAGTCAACTGTAGGATGCTAGTTTGCTAGACTGGATCGTATAGGGGTAAGATCGTAAACACTCGTGGTAGGACGCATCGGCAGAGGAATACTCCAGAGCGCCACCCTGCCCAATATATGTCTGGTCCGCTGAATGGGCCCGCCTTCAGGGATAACTATATATTGCCTCCAGCGTAACGCG'"
   ]
  },
  {
   "cell_type": "code",
   "execution_count": 47,
   "metadata": {
    "collapsed": false
   },
   "outputs": [
    {
     "data": {
      "text/plain": [
       "'CGCGTTACGCTGGAGGCAATATATAGTTATCCCTGAAGGCGGGCCCATTCAGCGGACCAGACATATATTGGGCAGGGTGGCGCTCTGGAGTATTCCTCTGCCGATGCGTCCTACCACGAGTGTTTACGATCTTACCCCTATACGATCCAGTCTAGCAAACTAGCATCCTACAGTTGACTGAGTTATAGTTAGTGGGTGCCCTGTCCTAGCCTGTGCTCATTTAAAGTAGGAAACCTTCGCTTGCTGGTAAACATTGCATCTATTTACAGACGAAATAACTGCCATTTAATAGAATCGAGTCCACCAGCCGGCCAAGGAGGAGCATCCGAAATACGCACACCTCTATCGCATGTCTTGATATGATTTACTCTTGAATCGGGGCGTGGCCGTGTTACCGAGTGGGGATTCACAGAGACGAACACGGCCGCAATAAGTGGTGAGCAGTTCACCGTTTAGCGATCATTACCTGCTCGCCCTCCCTGCTCTACTCGTTGCTTCCTAGCCCAGTGCACGAGGCCCCCGCGTGCAAGCCTAACATCCAGACGCTTCGAACATGCCACCCTTCGGCGAAGTGTGAGACAATCCGCATTTAATATTAACCGGTCAGGTCAACTTCGTTAATGCATGGGTCGGAGTAGACTGTGGTACTAACACGTGTGTCATTGGTTCCGCTTTGAAAGAAAAAAGGCCAGCTTTACGGCGCAAAAACATTTGTGAATCCCTAGAGAAAAGTGCACAACTCTGACGGGTTCCCAAGGGACAGGGTATCGATAGCTAGCGTCACACCGATAGCAGCGATTGTTGGATCGCACACCTGAGTAAACAGCGTCTGGACGCGGGAGTAGAGATCGCCTTTCGTGGTTGCTTC'"
      ]
     },
     "execution_count": 47,
     "metadata": {},
     "output_type": "execute_result"
    }
   ],
   "source": [
    "reverseComp(text)"
   ]
  },
  {
   "cell_type": "code",
   "execution_count": null,
   "metadata": {
    "collapsed": true
   },
   "outputs": [],
   "source": []
  }
 ],
 "metadata": {
  "kernelspec": {
   "display_name": "Python 3",
   "language": "python",
   "name": "python3"
  },
  "language_info": {
   "codemirror_mode": {
    "name": "ipython",
    "version": 3
   },
   "file_extension": ".py",
   "mimetype": "text/x-python",
   "name": "python",
   "nbconvert_exporter": "python",
   "pygments_lexer": "ipython3",
   "version": "3.4.3"
  }
 },
 "nbformat": 4,
 "nbformat_minor": 0
}
