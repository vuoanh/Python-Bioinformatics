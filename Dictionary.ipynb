{
 "cells": [
  {
   "cell_type": "code",
   "execution_count": 15,
   "metadata": {
    "collapsed": false
   },
   "outputs": [],
   "source": [
    "def countWord(text):\n",
    "    dict={}\n",
    "    for word in text.split(' '):\n",
    "        if word in dict:\n",
    "            dict[word] += 1\n",
    "        else :\n",
    "            dict[word] = 1\n",
    "    for key,value in dict.items():\n",
    "        print (key,value)"
   ]
  },
  {
   "cell_type": "code",
   "execution_count": 3,
   "metadata": {
    "collapsed": true
   },
   "outputs": [],
   "source": [
    "text = 'We tried list and we tried dicts also we tried Zen'"
   ]
  },
  {
   "cell_type": "code",
   "execution_count": 16,
   "metadata": {
    "collapsed": false
   },
   "outputs": [
    {
     "name": "stdout",
     "output_type": "stream",
     "text": [
      "we 2\n",
      "Zen 1\n",
      "We 1\n",
      "list 1\n",
      "tried 3\n",
      "dicts 1\n",
      "and 1\n",
      "also 1\n"
     ]
    }
   ],
   "source": [
    "countWord(text)"
   ]
  }
 ],
 "metadata": {
  "kernelspec": {
   "display_name": "Python 3",
   "language": "python",
   "name": "python3"
  },
  "language_info": {
   "codemirror_mode": {
    "name": "ipython",
    "version": 3
   },
   "file_extension": ".py",
   "mimetype": "text/x-python",
   "name": "python",
   "nbconvert_exporter": "python",
   "pygments_lexer": "ipython3",
   "version": "3.4.3"
  }
 },
 "nbformat": 4,
 "nbformat_minor": 0
}
